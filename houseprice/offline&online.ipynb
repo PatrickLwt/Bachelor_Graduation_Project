{
 "cells": [
  {
   "cell_type": "code",
   "execution_count": 48,
   "metadata": {},
   "outputs": [],
   "source": [
    "import pandas as pd\n",
    "import numpy as np\n",
    "import matplotlib.pyplot as plt\n",
    "from sklearn import preprocessing\n",
    "from sklearn import ensemble\n",
    "from joblib import dump, load\n",
    "\n",
    "pd.set_option('display.max_columns', None)"
   ]
  },
  {
   "cell_type": "code",
   "execution_count": 34,
   "metadata": {},
   "outputs": [
    {
     "name": "stderr",
     "output_type": "stream",
     "text": [
      "D:\\anaconda\\lib\\site-packages\\IPython\\core\\interactiveshell.py:3020: DtypeWarning: Columns (11) have mixed types. Specify dtype option on import or set low_memory=False.\n",
      "  interactivity=interactivity, compiler=compiler, result=result)\n"
     ]
    }
   ],
   "source": [
    "data=pd.read_csv('./train.csv')"
   ]
  },
  {
   "cell_type": "markdown",
   "metadata": {},
   "source": [
    "## 删除重复错误样本"
   ]
  },
  {
   "cell_type": "code",
   "execution_count": 35,
   "metadata": {},
   "outputs": [
    {
     "name": "stdout",
     "output_type": "stream",
     "text": [
      "(255080, 23)\n",
      "(255069, 23)\n"
     ]
    }
   ],
   "source": [
    "dIndex = data.duplicated()\n",
    "data1 = data.copy()\n",
    "print(data1.shape)\n",
    "data1.drop_duplicates(keep='first', inplace=True)\n",
    "print(data1.shape)"
   ]
  },
  {
   "cell_type": "code",
   "execution_count": 36,
   "metadata": {},
   "outputs": [
    {
     "name": "stdout",
     "output_type": "stream",
     "text": [
      "(255041, 23)\n"
     ]
    }
   ],
   "source": [
    "invalid_list = data1[data1['livingRoom']=='#NAME?'].index.tolist()\n",
    "data1.drop(invalid_list, inplace=True)\n",
    "print(data1.shape)"
   ]
  },
  {
   "cell_type": "markdown",
   "metadata": {},
   "source": [
    "## 数据处理"
   ]
  },
  {
   "cell_type": "code",
   "execution_count": 37,
   "metadata": {},
   "outputs": [],
   "source": [
    "data2 = data1.copy()\n",
    "data2['floorDegree'] = data2['floor'].str.extract('(\\D+)')\n",
    "data2['floorNumber'] = data2['floor'].str.extract('(\\d+)')\n",
    "data2['tradeYear'] = data2['tradeTime'].map(lambda x:x.split('-')[0])\n",
    "data2['tradeMonth'] = data2['tradeTime'].map(lambda x:x.split('-')[1])\n",
    "data2['tradeDay'] = data2['tradeTime'].map(lambda x:x.split('-')[2])\n",
    "data2 = data2.drop(['Cid', 'floor', 'tradeTime'], axis=1)"
   ]
  },
  {
   "cell_type": "code",
   "execution_count": 38,
   "metadata": {},
   "outputs": [
    {
     "name": "stderr",
     "output_type": "stream",
     "text": [
      "D:\\anaconda\\lib\\site-packages\\ipykernel_launcher.py:2: SettingWithCopyWarning: \n",
      "A value is trying to be set on a copy of a slice from a DataFrame\n",
      "\n",
      "See the caveats in the documentation: http://pandas.pydata.org/pandas-docs/stable/indexing.html#indexing-view-versus-copy\n",
      "  \n",
      "D:\\anaconda\\lib\\site-packages\\ipykernel_launcher.py:3: SettingWithCopyWarning: \n",
      "A value is trying to be set on a copy of a slice from a DataFrame\n",
      "\n",
      "See the caveats in the documentation: http://pandas.pydata.org/pandas-docs/stable/indexing.html#indexing-view-versus-copy\n",
      "  This is separate from the ipykernel package so we can avoid doing imports until\n",
      "D:\\anaconda\\lib\\site-packages\\ipykernel_launcher.py:4: SettingWithCopyWarning: \n",
      "A value is trying to be set on a copy of a slice from a DataFrame\n",
      "\n",
      "See the caveats in the documentation: http://pandas.pydata.org/pandas-docs/stable/indexing.html#indexing-view-versus-copy\n",
      "  after removing the cwd from sys.path.\n",
      "D:\\anaconda\\lib\\site-packages\\ipykernel_launcher.py:5: SettingWithCopyWarning: \n",
      "A value is trying to be set on a copy of a slice from a DataFrame\n",
      "\n",
      "See the caveats in the documentation: http://pandas.pydata.org/pandas-docs/stable/indexing.html#indexing-view-versus-copy\n",
      "  \"\"\"\n",
      "D:\\anaconda\\lib\\site-packages\\ipykernel_launcher.py:6: SettingWithCopyWarning: \n",
      "A value is trying to be set on a copy of a slice from a DataFrame\n",
      "\n",
      "See the caveats in the documentation: http://pandas.pydata.org/pandas-docs/stable/indexing.html#indexing-view-versus-copy\n",
      "  \n",
      "D:\\anaconda\\lib\\site-packages\\ipykernel_launcher.py:7: SettingWithCopyWarning: \n",
      "A value is trying to be set on a copy of a slice from a DataFrame\n",
      "\n",
      "See the caveats in the documentation: http://pandas.pydata.org/pandas-docs/stable/indexing.html#indexing-view-versus-copy\n",
      "  import sys\n",
      "D:\\anaconda\\lib\\site-packages\\ipykernel_launcher.py:8: SettingWithCopyWarning: \n",
      "A value is trying to be set on a copy of a slice from a DataFrame\n",
      "\n",
      "See the caveats in the documentation: http://pandas.pydata.org/pandas-docs/stable/indexing.html#indexing-view-versus-copy\n",
      "  \n",
      "D:\\anaconda\\lib\\site-packages\\ipykernel_launcher.py:9: SettingWithCopyWarning: \n",
      "A value is trying to be set on a copy of a slice from a DataFrame\n",
      "\n",
      "See the caveats in the documentation: http://pandas.pydata.org/pandas-docs/stable/indexing.html#indexing-view-versus-copy\n",
      "  if __name__ == '__main__':\n"
     ]
    }
   ],
   "source": [
    "data3 = data2.copy()\n",
    "data3['floorDegree'][data2['floorDegree'] == '未知 '] = np.nan\n",
    "data3['floorDegree'][data2['floorDegree'] == '混合结构'] = 6\n",
    "data3['floorDegree'][data2['floorDegree'] == '钢混结构'] = 5\n",
    "data3['floorDegree'][data2['floorDegree'] == '底 '] = 4\n",
    "data3['floorDegree'][data2['floorDegree'] == '顶 '] = 3\n",
    "data3['floorDegree'][data2['floorDegree'] == '高 '] = 2\n",
    "data3['floorDegree'][data2['floorDegree'] == '中 '] = 1\n",
    "data3['floorDegree'][data2['floorDegree'] == '低 '] = 0"
   ]
  },
  {
   "cell_type": "code",
   "execution_count": 39,
   "metadata": {},
   "outputs": [],
   "source": [
    "data3['constructionTime'] = data3['constructionTime'].replace('未知', '0')\n",
    "data3 = data3.replace('未知', np.nan)"
   ]
  },
  {
   "cell_type": "markdown",
   "metadata": {},
   "source": [
    "## 缺失值处理及改变数据类型"
   ]
  },
  {
   "cell_type": "code",
   "execution_count": 40,
   "metadata": {},
   "outputs": [],
   "source": [
    "data3.drop(columns=['DOM', 'floorDegree'],inplace=True)"
   ]
  },
  {
   "cell_type": "code",
   "execution_count": 41,
   "metadata": {},
   "outputs": [],
   "source": [
    "intcols = ['livingRoom', 'drawingRoom', 'bathRoom', 'floorNumber', 'tradeYear', 'tradeMonth', 'tradeDay', 'constructionTime']\n",
    "data3.loc[:,intcols] = data3.loc[:,intcols].astype('int64')"
   ]
  },
  {
   "cell_type": "code",
   "execution_count": 42,
   "metadata": {},
   "outputs": [
    {
     "name": "stderr",
     "output_type": "stream",
     "text": [
      "D:\\anaconda\\lib\\site-packages\\ipykernel_launcher.py:4: SettingWithCopyWarning: \n",
      "A value is trying to be set on a copy of a slice from a DataFrame\n",
      "\n",
      "See the caveats in the documentation: http://pandas.pydata.org/pandas-docs/stable/indexing.html#indexing-view-versus-copy\n",
      "  after removing the cwd from sys.path.\n"
     ]
    }
   ],
   "source": [
    "contime_list = data2[data2['constructionTime']!='未知'].index.tolist()\n",
    "connotime_list = data2[data2['constructionTime']=='未知'].index.tolist()\n",
    "delta = data3['tradeYear'][contime_list] - data3['constructionTime'][contime_list]\n",
    "data3['constructionTime'][connotime_list] = data3['tradeYear'][connotime_list] - delta.mean()"
   ]
  },
  {
   "cell_type": "code",
   "execution_count": 43,
   "metadata": {},
   "outputs": [
    {
     "name": "stdout",
     "output_type": "stream",
     "text": [
      "(255041, 23)\n",
      "(253142, 23)\n"
     ]
    }
   ],
   "source": [
    "print(data3.shape)\n",
    "data3.dropna(inplace=True)\n",
    "print(data3.shape)"
   ]
  },
  {
   "cell_type": "markdown",
   "metadata": {},
   "source": [
    "## 处理年份，用2019减去该年份"
   ]
  },
  {
   "cell_type": "code",
   "execution_count": 44,
   "metadata": {},
   "outputs": [],
   "source": [
    "data3.loc[:,'constructionTime'] = 2019.0 - data3.loc[:,'constructionTime']\n",
    "data3.loc[:,'tradeYear'] = 2019 - data3.loc[:,'tradeYear']"
   ]
  },
  {
   "cell_type": "markdown",
   "metadata": {},
   "source": [
    "## 数据归一化"
   ]
  },
  {
   "cell_type": "code",
   "execution_count": 45,
   "metadata": {},
   "outputs": [],
   "source": [
    "price_col =data3['price']\n",
    "data3.drop(['price'],axis=1,inplace=True)\n",
    "x = data3.values\n",
    "min_max_scaler = preprocessing.MinMaxScaler()\n",
    "x_scaled = min_max_scaler.fit_transform(x)\n",
    "data4 = pd.DataFrame(x_scaled,columns=[column for column in data3])\n",
    "data4['price'] = price_col.values.tolist()"
   ]
  },
  {
   "cell_type": "code",
   "execution_count": 47,
   "metadata": {},
   "outputs": [
    {
     "name": "stdout",
     "output_type": "stream",
     "text": [
      "(253142, 23)\n",
      "0.1250    71981\n",
      "0.1875    55402\n",
      "0.0625    34306\n",
      "0.3125    30885\n",
      "0.3750    29564\n",
      "0.2500    25929\n",
      "0.4375     4746\n",
      "0.0000      179\n",
      "0.5000      144\n",
      "1.0000        3\n",
      "0.9375        1\n",
      "0.5625        1\n",
      "0.6250        1\n",
      "Name: tradeYear, dtype: int64\n"
     ]
    }
   ],
   "source": [
    "print(data4.shape)\n",
    "print(data4['tradeYear'].value_counts())"
   ]
  },
  {
   "cell_type": "markdown",
   "metadata": {},
   "source": [
    "## 挑选训练数据块，2017年3个，2016年2个，2015年5个，2014年3个"
   ]
  },
  {
   "cell_type": "code",
   "execution_count": 49,
   "metadata": {},
   "outputs": [],
   "source": [
    "block_size = 1000\n",
    "train_data_2017 = data4[data4['tradeYear']==0.0625].sample(n=(3*block_size))\n",
    "train_data_2016 = data4[data4['tradeYear']==0.125].sample(n=(2*block_size))\n",
    "train_data_2015 = data4[data4['tradeYear']==0.1875].sample(n=(5*block_size))\n",
    "train_data_2014 = data4[data4['tradeYear']==0.3125].sample(n=(3*block_size))\n",
    "\n",
    "train_label_2017 = train_data_2017['price']\n",
    "train_label_2016 = train_data_2016['price']\n",
    "train_label_2015 = train_data_2015['price']\n",
    "train_label_2014 = train_data_2014['price']\n",
    "\n",
    "train_data_2017.drop(columns=['tradeMonth', 'tradeDay','price'], axis=1, inplace=True)\n",
    "train_data_2016.drop(columns=['tradeMonth', 'tradeDay','price'], axis=1, inplace=True)\n",
    "train_data_2015.drop(columns=['tradeMonth', 'tradeDay','price'], axis=1, inplace=True)\n",
    "train_data_2014.drop(columns=['tradeMonth', 'tradeDay','price'], axis=1, inplace=True)"
   ]
  },
  {
   "cell_type": "code",
   "execution_count": 50,
   "metadata": {},
   "outputs": [],
   "source": [
    "def addnoise(train_data_noised, epsilon, block_size, block_num):\n",
    "    column_num = train_data_noised.shape[1]\n",
    "    column_name = [column for column in train_data_noised]\n",
    "    for i in range(block_num):\n",
    "        noise = np.random.laplace(scale=(column_num/epsilon), size=(1,column_num))\n",
    "        noise = (noise / block_size).tolist()\n",
    "        for j in range(block_size):\n",
    "            idx = train_data_noised.index[(i*block_size+j)]\n",
    "            for k in range(column_num):\n",
    "                item_name = column_name[k]\n",
    "                train_data_noised.loc[idx,item_name] = train_data_noised.loc[idx,item_name] + noise[0][k]\n",
    "    return train_data_noised"
   ]
  },
  {
   "cell_type": "code",
   "execution_count": 133,
   "metadata": {},
   "outputs": [],
   "source": [
    "reg = load('BaseModel.joblib')"
   ]
  },
  {
   "cell_type": "code",
   "execution_count": 134,
   "metadata": {},
   "outputs": [
    {
     "name": "stdout",
     "output_type": "stream",
     "text": [
      "(5000, 20)\n",
      "(5000,)\n"
     ]
    },
    {
     "data": {
      "text/plain": [
       "GradientBoostingRegressor(alpha=0.9, criterion='friedman_mse', init=None,\n",
       "             learning_rate=0.1, loss='ls', max_depth=10, max_features=None,\n",
       "             max_leaf_nodes=None, min_impurity_decrease=0.0,\n",
       "             min_impurity_split=None, min_samples_leaf=1,\n",
       "             min_samples_split=5, min_weight_fraction_leaf=0.0,\n",
       "             n_estimators=400, n_iter_no_change=None, presort='auto',\n",
       "             random_state=None, subsample=1.0, tol=0.0001,\n",
       "             validation_fraction=0.1, verbose=0, warm_start=False)"
      ]
     },
     "execution_count": 134,
     "metadata": {},
     "output_type": "execute_result"
    }
   ],
   "source": [
    "train_data1 = train_data_2015.copy()[3000:]\n",
    "train_data2 = train_data_2014.copy()\n",
    "train_data = pd.concat([train_data1, train_data2])\n",
    "print(train_data.shape)\n",
    "train_data = addnoise(train_data, 0.4, 1000, 5)\n",
    "train_label1 = train_label_2015.copy()[3000:]\n",
    "train_label2 = train_label_2014.copy()\n",
    "train_label = pd.concat([train_label1, train_label2])\n",
    "print(train_label.shape)\n",
    "reg.fit(train_data, train_label)"
   ]
  },
  {
   "cell_type": "code",
   "execution_count": 135,
   "metadata": {},
   "outputs": [],
   "source": [
    "pred = reg.predict(test_data_2015)\n",
    "test_label = test_label_2015"
   ]
  },
  {
   "cell_type": "code",
   "execution_count": 136,
   "metadata": {},
   "outputs": [
    {
     "name": "stdout",
     "output_type": "stream",
     "text": [
      "MSE为： 249679951.8529485\n",
      "MedAE为： 6569.781391472923\n"
     ]
    }
   ],
   "source": [
    "from sklearn.metrics import mean_squared_error, median_absolute_error\n",
    "\n",
    "print('MSE为：',mean_squared_error(pred, test_label))\n",
    "print('MedAE为：',median_absolute_error(pred,test_label))"
   ]
  },
  {
   "cell_type": "markdown",
   "metadata": {},
   "source": [
    "## 挑选测试数据块"
   ]
  },
  {
   "cell_type": "code",
   "execution_count": 21,
   "metadata": {},
   "outputs": [],
   "source": [
    "test_data=pd.read_csv('./test.csv')\n",
    "test_price = pd.read_csv('./test_price.csv', header=None)"
   ]
  },
  {
   "cell_type": "code",
   "execution_count": 22,
   "metadata": {},
   "outputs": [],
   "source": [
    "test_data2 = test_data.copy()\n",
    "\n",
    "test_data2['tradeYear'] = test_data2['tradeTime'].map(lambda x:x.split('-')[0])\n",
    "test_data2['tradeMonth'] = test_data2['tradeTime'].map(lambda x:x.split('-')[1])\n",
    "test_data2['tradeDay'] = test_data2['tradeTime'].map(lambda x:x.split('-')[2])\n",
    "test_data2['floorDegree'] = test_data2['floor'].str.extract('(\\D+)')\n",
    "test_data2['floorNumber'] = test_data2['floor'].str.extract('(\\d+)')\n",
    "test_data2 = test_data2.drop(['Cid', 'floor', 'tradeTime'], axis=1)\n",
    "test_data2['tradeYear'].value_counts()\n",
    "\n",
    "test_invalid = test_data2[test_data2['livingRoom']=='#NAME?'].index.tolist()\n",
    "test_data2.drop(test_invalid, inplace=True)"
   ]
  },
  {
   "cell_type": "code",
   "execution_count": 23,
   "metadata": {},
   "outputs": [
    {
     "name": "stderr",
     "output_type": "stream",
     "text": [
      "D:\\anaconda\\lib\\site-packages\\ipykernel_launcher.py:2: SettingWithCopyWarning: \n",
      "A value is trying to be set on a copy of a slice from a DataFrame\n",
      "\n",
      "See the caveats in the documentation: http://pandas.pydata.org/pandas-docs/stable/indexing.html#indexing-view-versus-copy\n",
      "  \n",
      "D:\\anaconda\\lib\\site-packages\\ipykernel_launcher.py:3: SettingWithCopyWarning: \n",
      "A value is trying to be set on a copy of a slice from a DataFrame\n",
      "\n",
      "See the caveats in the documentation: http://pandas.pydata.org/pandas-docs/stable/indexing.html#indexing-view-versus-copy\n",
      "  This is separate from the ipykernel package so we can avoid doing imports until\n",
      "D:\\anaconda\\lib\\site-packages\\ipykernel_launcher.py:4: SettingWithCopyWarning: \n",
      "A value is trying to be set on a copy of a slice from a DataFrame\n",
      "\n",
      "See the caveats in the documentation: http://pandas.pydata.org/pandas-docs/stable/indexing.html#indexing-view-versus-copy\n",
      "  after removing the cwd from sys.path.\n",
      "D:\\anaconda\\lib\\site-packages\\ipykernel_launcher.py:5: SettingWithCopyWarning: \n",
      "A value is trying to be set on a copy of a slice from a DataFrame\n",
      "\n",
      "See the caveats in the documentation: http://pandas.pydata.org/pandas-docs/stable/indexing.html#indexing-view-versus-copy\n",
      "  \"\"\"\n",
      "D:\\anaconda\\lib\\site-packages\\ipykernel_launcher.py:6: SettingWithCopyWarning: \n",
      "A value is trying to be set on a copy of a slice from a DataFrame\n",
      "\n",
      "See the caveats in the documentation: http://pandas.pydata.org/pandas-docs/stable/indexing.html#indexing-view-versus-copy\n",
      "  \n",
      "D:\\anaconda\\lib\\site-packages\\ipykernel_launcher.py:7: SettingWithCopyWarning: \n",
      "A value is trying to be set on a copy of a slice from a DataFrame\n",
      "\n",
      "See the caveats in the documentation: http://pandas.pydata.org/pandas-docs/stable/indexing.html#indexing-view-versus-copy\n",
      "  import sys\n",
      "D:\\anaconda\\lib\\site-packages\\ipykernel_launcher.py:8: SettingWithCopyWarning: \n",
      "A value is trying to be set on a copy of a slice from a DataFrame\n",
      "\n",
      "See the caveats in the documentation: http://pandas.pydata.org/pandas-docs/stable/indexing.html#indexing-view-versus-copy\n",
      "  \n",
      "D:\\anaconda\\lib\\site-packages\\ipykernel_launcher.py:9: SettingWithCopyWarning: \n",
      "A value is trying to be set on a copy of a slice from a DataFrame\n",
      "\n",
      "See the caveats in the documentation: http://pandas.pydata.org/pandas-docs/stable/indexing.html#indexing-view-versus-copy\n",
      "  if __name__ == '__main__':\n"
     ]
    }
   ],
   "source": [
    "test_data3 = test_data2.copy()\n",
    "test_data3['floorDegree'][test_data2['floorDegree'] == '未知 '] = np.nan\n",
    "test_data3['floorDegree'][test_data2['floorDegree'] == '混合结构'] = 6\n",
    "test_data3['floorDegree'][test_data2['floorDegree'] == '钢混结构'] = 5\n",
    "test_data3['floorDegree'][test_data2['floorDegree'] == '底 '] = 4\n",
    "test_data3['floorDegree'][test_data2['floorDegree'] == '顶 '] = 3\n",
    "test_data3['floorDegree'][test_data2['floorDegree'] == '高 '] = 2\n",
    "test_data3['floorDegree'][test_data2['floorDegree'] == '中 '] = 1\n",
    "test_data3['floorDegree'][test_data2['floorDegree'] == '低 '] = 0"
   ]
  },
  {
   "cell_type": "code",
   "execution_count": 24,
   "metadata": {},
   "outputs": [],
   "source": [
    "test_data3['constructionTime'] = test_data3['constructionTime'].replace('未知', '0')\n",
    "test_data3 = test_data3.replace('未知', np.nan)\n",
    "test_data3.drop(columns=['DOM', 'floorDegree'],inplace=True)"
   ]
  },
  {
   "cell_type": "code",
   "execution_count": 25,
   "metadata": {},
   "outputs": [],
   "source": [
    "test_data3['buildingType'] = test_data3['buildingType'].replace(np.nan, test_data3['buildingType'].mean())\n",
    "test_data3['communityAverage'] = test_data3['communityAverage'].replace(np.nan, test_data3['communityAverage'].mean())"
   ]
  },
  {
   "cell_type": "code",
   "execution_count": 26,
   "metadata": {},
   "outputs": [],
   "source": [
    "intcols = ['livingRoom', 'drawingRoom', 'bathRoom', 'floorNumber', 'tradeYear', 'tradeMonth', 'tradeDay', 'constructionTime']\n",
    "test_data3.loc[:,intcols] = test_data3.loc[:,intcols].astype('int64')"
   ]
  },
  {
   "cell_type": "code",
   "execution_count": 27,
   "metadata": {},
   "outputs": [],
   "source": [
    "test_data3.loc[:,'constructionTime'] = 2019.0 - test_data3.loc[:,'constructionTime']\n",
    "test_data3.loc[:,'tradeYear'] = 2019 - test_data3.loc[:,'tradeYear']"
   ]
  },
  {
   "cell_type": "code",
   "execution_count": 28,
   "metadata": {},
   "outputs": [],
   "source": [
    "test_data3.drop(columns=['tradeMonth', 'tradeDay'], axis=1, inplace=True)"
   ]
  },
  {
   "cell_type": "code",
   "execution_count": 29,
   "metadata": {},
   "outputs": [
    {
     "data": {
      "text/plain": [
       "Lng                    0\n",
       "Lat                    0\n",
       "followers              0\n",
       "square                 0\n",
       "livingRoom             0\n",
       "drawingRoom            0\n",
       "kitchen                0\n",
       "bathRoom               0\n",
       "buildingType           0\n",
       "constructionTime       0\n",
       "renovationCondition    0\n",
       "buildingStructure      0\n",
       "ladderRatio            0\n",
       "elevator               0\n",
       "fiveYearsProperty      0\n",
       "subway                 0\n",
       "district               0\n",
       "communityAverage       0\n",
       "tradeYear              0\n",
       "floorNumber            0\n",
       "dtype: int64"
      ]
     },
     "execution_count": 29,
     "metadata": {},
     "output_type": "execute_result"
    }
   ],
   "source": [
    "missing = test_data3.isnull().sum()\n",
    "missing"
   ]
  },
  {
   "cell_type": "code",
   "execution_count": 30,
   "metadata": {},
   "outputs": [],
   "source": [
    "from sklearn import preprocessing\n",
    "\n",
    "y = test_data3.values\n",
    "min_max_scaler = preprocessing.MinMaxScaler()\n",
    "y_scaled = min_max_scaler.fit_transform(y)\n",
    "test = pd.DataFrame(y_scaled,columns=[column for column in test_data3])"
   ]
  },
  {
   "cell_type": "code",
   "execution_count": 31,
   "metadata": {},
   "outputs": [
    {
     "name": "stdout",
     "output_type": "stream",
     "text": [
      "0.250    18175\n",
      "0.375    14063\n",
      "0.125     8514\n",
      "0.625     7684\n",
      "0.750     7508\n",
      "0.500     6525\n",
      "0.875     1223\n",
      "0.000       42\n",
      "1.000       33\n",
      "Name: tradeYear, dtype: int64\n",
      "(63767, 20)\n"
     ]
    }
   ],
   "source": [
    "print(test['tradeYear'].value_counts())\n",
    "print(test.shape)"
   ]
  },
  {
   "cell_type": "code",
   "execution_count": 56,
   "metadata": {},
   "outputs": [
    {
     "name": "stdout",
     "output_type": "stream",
     "text": [
      "(63771, 1)\n"
     ]
    },
    {
     "data": {
      "text/html": [
       "<div>\n",
       "<style scoped>\n",
       "    .dataframe tbody tr th:only-of-type {\n",
       "        vertical-align: middle;\n",
       "    }\n",
       "\n",
       "    .dataframe tbody tr th {\n",
       "        vertical-align: top;\n",
       "    }\n",
       "\n",
       "    .dataframe thead th {\n",
       "        text-align: right;\n",
       "    }\n",
       "</style>\n",
       "<table border=\"1\" class=\"dataframe\">\n",
       "  <thead>\n",
       "    <tr style=\"text-align: right;\">\n",
       "      <th></th>\n",
       "      <th>Lng</th>\n",
       "      <th>Lat</th>\n",
       "      <th>Cid</th>\n",
       "      <th>tradeTime</th>\n",
       "      <th>DOM</th>\n",
       "      <th>followers</th>\n",
       "      <th>square</th>\n",
       "      <th>livingRoom</th>\n",
       "      <th>drawingRoom</th>\n",
       "      <th>kitchen</th>\n",
       "      <th>bathRoom</th>\n",
       "      <th>floor</th>\n",
       "      <th>buildingType</th>\n",
       "      <th>constructionTime</th>\n",
       "      <th>renovationCondition</th>\n",
       "      <th>buildingStructure</th>\n",
       "      <th>ladderRatio</th>\n",
       "      <th>elevator</th>\n",
       "      <th>fiveYearsProperty</th>\n",
       "      <th>subway</th>\n",
       "      <th>district</th>\n",
       "      <th>communityAverage</th>\n",
       "    </tr>\n",
       "  </thead>\n",
       "  <tbody>\n",
       "    <tr>\n",
       "      <th>16231</th>\n",
       "      <td>116.238792</td>\n",
       "      <td>39.852889</td>\n",
       "      <td>1111027381738</td>\n",
       "      <td>2011-11-16</td>\n",
       "      <td>NaN</td>\n",
       "      <td>0</td>\n",
       "      <td>37.89</td>\n",
       "      <td>#NAME?</td>\n",
       "      <td>低 6</td>\n",
       "      <td>4</td>\n",
       "      <td>2004</td>\n",
       "      <td>混合结构</td>\n",
       "      <td>0.048</td>\n",
       "      <td>0</td>\n",
       "      <td>1</td>\n",
       "      <td>0</td>\n",
       "      <td>0.0</td>\n",
       "      <td>NaN</td>\n",
       "      <td>NaN</td>\n",
       "      <td>NaN</td>\n",
       "      <td>2</td>\n",
       "      <td>43567.0</td>\n",
       "    </tr>\n",
       "    <tr>\n",
       "      <th>18702</th>\n",
       "      <td>116.433401</td>\n",
       "      <td>40.107867</td>\n",
       "      <td>1111027378309</td>\n",
       "      <td>2015-10-24</td>\n",
       "      <td>1.0</td>\n",
       "      <td>0</td>\n",
       "      <td>90.59</td>\n",
       "      <td>#NAME?</td>\n",
       "      <td>高 6</td>\n",
       "      <td>4</td>\n",
       "      <td>2003</td>\n",
       "      <td>混合结构</td>\n",
       "      <td>0.500</td>\n",
       "      <td>0</td>\n",
       "      <td>0</td>\n",
       "      <td>0</td>\n",
       "      <td>0.0</td>\n",
       "      <td>NaN</td>\n",
       "      <td>NaN</td>\n",
       "      <td>NaN</td>\n",
       "      <td>6</td>\n",
       "      <td>41055.0</td>\n",
       "    </tr>\n",
       "    <tr>\n",
       "      <th>38854</th>\n",
       "      <td>116.122354</td>\n",
       "      <td>39.937384</td>\n",
       "      <td>1111027376723</td>\n",
       "      <td>2014-10-06</td>\n",
       "      <td>1.0</td>\n",
       "      <td>0</td>\n",
       "      <td>82.09</td>\n",
       "      <td>#NAME?</td>\n",
       "      <td>顶 6</td>\n",
       "      <td>4</td>\n",
       "      <td>2000</td>\n",
       "      <td>钢混结构</td>\n",
       "      <td>0.500</td>\n",
       "      <td>0</td>\n",
       "      <td>0</td>\n",
       "      <td>0</td>\n",
       "      <td>0.0</td>\n",
       "      <td>NaN</td>\n",
       "      <td>NaN</td>\n",
       "      <td>NaN</td>\n",
       "      <td>12</td>\n",
       "      <td>36358.0</td>\n",
       "    </tr>\n",
       "    <tr>\n",
       "      <th>55519</th>\n",
       "      <td>116.238792</td>\n",
       "      <td>39.852889</td>\n",
       "      <td>1111027381738</td>\n",
       "      <td>2011-11-16</td>\n",
       "      <td>NaN</td>\n",
       "      <td>0</td>\n",
       "      <td>37.89</td>\n",
       "      <td>#NAME?</td>\n",
       "      <td>低 6</td>\n",
       "      <td>4</td>\n",
       "      <td>2004</td>\n",
       "      <td>混合结构</td>\n",
       "      <td>0.048</td>\n",
       "      <td>0</td>\n",
       "      <td>0</td>\n",
       "      <td>0</td>\n",
       "      <td>0.0</td>\n",
       "      <td>NaN</td>\n",
       "      <td>NaN</td>\n",
       "      <td>NaN</td>\n",
       "      <td>2</td>\n",
       "      <td>43567.0</td>\n",
       "    </tr>\n",
       "  </tbody>\n",
       "</table>\n",
       "</div>"
      ],
      "text/plain": [
       "              Lng        Lat            Cid   tradeTime  DOM  followers  \\\n",
       "16231  116.238792  39.852889  1111027381738  2011-11-16  NaN          0   \n",
       "18702  116.433401  40.107867  1111027378309  2015-10-24  1.0          0   \n",
       "38854  116.122354  39.937384  1111027376723  2014-10-06  1.0          0   \n",
       "55519  116.238792  39.852889  1111027381738  2011-11-16  NaN          0   \n",
       "\n",
       "       square livingRoom drawingRoom  kitchen  bathRoom floor  buildingType  \\\n",
       "16231   37.89     #NAME?         低 6        4      2004  混合结构         0.048   \n",
       "18702   90.59     #NAME?         高 6        4      2003  混合结构         0.500   \n",
       "38854   82.09     #NAME?         顶 6        4      2000  钢混结构         0.500   \n",
       "55519   37.89     #NAME?         低 6        4      2004  混合结构         0.048   \n",
       "\n",
       "      constructionTime  renovationCondition  buildingStructure  ladderRatio  \\\n",
       "16231                0                    1                  0          0.0   \n",
       "18702                0                    0                  0          0.0   \n",
       "38854                0                    0                  0          0.0   \n",
       "55519                0                    0                  0          0.0   \n",
       "\n",
       "       elevator  fiveYearsProperty  subway  district  communityAverage  \n",
       "16231       NaN                NaN     NaN         2           43567.0  \n",
       "18702       NaN                NaN     NaN         6           41055.0  \n",
       "38854       NaN                NaN     NaN        12           36358.0  \n",
       "55519       NaN                NaN     NaN         2           43567.0  "
      ]
     },
     "execution_count": 56,
     "metadata": {},
     "output_type": "execute_result"
    }
   ],
   "source": [
    "print(test_price.shape)\n",
    "test_data[test_data['livingRoom']=='#NAME?']"
   ]
  },
  {
   "cell_type": "code",
   "execution_count": 33,
   "metadata": {},
   "outputs": [],
   "source": [
    "test_data_2016 = test[test['tradeYear']==0.250]\n",
    "test_data_2015 = test[test['tradeYear']==0.375]\n",
    "test_data_2014 = test[test['tradeYear']==0.625]"
   ]
  },
  {
   "cell_type": "code",
   "execution_count": 73,
   "metadata": {},
   "outputs": [],
   "source": [
    "# test_price.drop(test_invalid, inplace=True)\n",
    "test_label_2016 = test_price[0].values[test['tradeYear']==0.250]\n",
    "test_label_2015 = test_price[0].values[test['tradeYear']==0.375]\n",
    "test_label_2014 = test_price[0].values[test['tradeYear']==0.625]"
   ]
  },
  {
   "cell_type": "code",
   "execution_count": null,
   "metadata": {},
   "outputs": [],
   "source": []
  }
 ],
 "metadata": {
  "kernelspec": {
   "display_name": "Python 3",
   "language": "python",
   "name": "python3"
  },
  "language_info": {
   "codemirror_mode": {
    "name": "ipython",
    "version": 3
   },
   "file_extension": ".py",
   "mimetype": "text/x-python",
   "name": "python",
   "nbconvert_exporter": "python",
   "pygments_lexer": "ipython3",
   "version": "3.7.1"
  }
 },
 "nbformat": 4,
 "nbformat_minor": 2
}
